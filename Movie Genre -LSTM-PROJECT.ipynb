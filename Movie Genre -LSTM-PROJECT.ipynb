{
 "cells": [
  {
   "cell_type": "markdown",
   "id": "48887010",
   "metadata": {},
   "source": [
    "# MOVIE GENRE -LSTM"
   ]
  },
  {
   "cell_type": "markdown",
   "id": "07a3500f",
   "metadata": {},
   "source": [
    "Using LSTM (Long Short-Term Memory) for movie genre classification involves training a deep learning model capable of understanding the sequential nature of movie plots and their corresponding genres, enabling accurate classification based on the temporal dependencies within the text data. By leveraging LSTM's ability to capture long-range dependencies, the model can effectively learn the underlying patterns in movie synopses, facilitating genre prediction with improved accuracy."
   ]
  },
  {
   "cell_type": "markdown",
   "id": "ee2cdb03",
   "metadata": {},
   "source": [
    "Import Necessary Libraries"
   ]
  },
  {
   "cell_type": "code",
   "execution_count": 386,
   "id": "60bf3dba",
   "metadata": {},
   "outputs": [],
   "source": [
    "import numpy as np\n",
    "import pandas as pd\n",
    "import matplotlib.pyplot as plt\n",
    "import seaborn as sns\n",
    "from sklearn.model_selection import train_test_split"
   ]
  },
  {
   "cell_type": "markdown",
   "id": "95dd964b",
   "metadata": {},
   "source": [
    "Read the dataset"
   ]
  },
  {
   "cell_type": "code",
   "execution_count": 387,
   "id": "ca338bf4",
   "metadata": {},
   "outputs": [],
   "source": [
    "import csv\n",
    "\n",
    "try:\n",
    "    df = pd.read_csv('movie_data.csv')\n",
    "except pd.errors.ParserError:\n",
    "    with open('movie_data.csv', 'r', errors='ignore') as file:\n",
    "        reader = csv.reader(file)\n",
    "        df = pd.DataFrame(reader)"
   ]
  },
  {
   "cell_type": "code",
   "execution_count": 388,
   "id": "b52db577",
   "metadata": {},
   "outputs": [
    {
     "data": {
      "text/html": [
       "<div>\n",
       "<style scoped>\n",
       "    .dataframe tbody tr th:only-of-type {\n",
       "        vertical-align: middle;\n",
       "    }\n",
       "\n",
       "    .dataframe tbody tr th {\n",
       "        vertical-align: top;\n",
       "    }\n",
       "\n",
       "    .dataframe thead th {\n",
       "        text-align: right;\n",
       "    }\n",
       "</style>\n",
       "<table border=\"1\" class=\"dataframe\">\n",
       "  <thead>\n",
       "    <tr style=\"text-align: right;\">\n",
       "      <th></th>\n",
       "      <th>0</th>\n",
       "      <th>1</th>\n",
       "    </tr>\n",
       "  </thead>\n",
       "  <tbody>\n",
       "    <tr>\n",
       "      <th>0</th>\n",
       "      <td>review</td>\n",
       "      <td>sentiment</td>\n",
       "    </tr>\n",
       "    <tr>\n",
       "      <th>1</th>\n",
       "      <td>This movie is just crap. Even though the direc...</td>\n",
       "      <td>0</td>\n",
       "    </tr>\n",
       "    <tr>\n",
       "      <th>2</th>\n",
       "      <td>Another detailed work on the subject by Dr Dwi...</td>\n",
       "      <td>1</td>\n",
       "    </tr>\n",
       "    <tr>\n",
       "      <th>3</th>\n",
       "      <td>THE CAT O'NINE TAILS (Il Gatto a Nove Code) &lt;b...</td>\n",
       "      <td>0</td>\n",
       "    </tr>\n",
       "    <tr>\n",
       "      <th>4</th>\n",
       "      <td>Like with any movie genre, there are good gang...</td>\n",
       "      <td>0</td>\n",
       "    </tr>\n",
       "  </tbody>\n",
       "</table>\n",
       "</div>"
      ],
      "text/plain": [
       "                                                   0          1\n",
       "0                                             review  sentiment\n",
       "1  This movie is just crap. Even though the direc...          0\n",
       "2  Another detailed work on the subject by Dr Dwi...          1\n",
       "3  THE CAT O'NINE TAILS (Il Gatto a Nove Code) <b...          0\n",
       "4  Like with any movie genre, there are good gang...          0"
      ]
     },
     "execution_count": 388,
     "metadata": {},
     "output_type": "execute_result"
    }
   ],
   "source": [
    "df.head()"
   ]
  },
  {
   "cell_type": "code",
   "execution_count": 389,
   "id": "294c0336",
   "metadata": {},
   "outputs": [],
   "source": [
    "df['review']=df[0]"
   ]
  },
  {
   "cell_type": "code",
   "execution_count": 390,
   "id": "8f5cdcbc",
   "metadata": {},
   "outputs": [],
   "source": [
    "df['sentiment']=df[1]"
   ]
  },
  {
   "cell_type": "code",
   "execution_count": 391,
   "id": "31897b5e",
   "metadata": {},
   "outputs": [],
   "source": [
    "df.drop(columns=[0,1],inplace=True)"
   ]
  },
  {
   "cell_type": "code",
   "execution_count": 392,
   "id": "d6b081ab",
   "metadata": {},
   "outputs": [
    {
     "data": {
      "text/html": [
       "<div>\n",
       "<style scoped>\n",
       "    .dataframe tbody tr th:only-of-type {\n",
       "        vertical-align: middle;\n",
       "    }\n",
       "\n",
       "    .dataframe tbody tr th {\n",
       "        vertical-align: top;\n",
       "    }\n",
       "\n",
       "    .dataframe thead th {\n",
       "        text-align: right;\n",
       "    }\n",
       "</style>\n",
       "<table border=\"1\" class=\"dataframe\">\n",
       "  <thead>\n",
       "    <tr style=\"text-align: right;\">\n",
       "      <th></th>\n",
       "      <th>review</th>\n",
       "      <th>sentiment</th>\n",
       "    </tr>\n",
       "  </thead>\n",
       "  <tbody>\n",
       "    <tr>\n",
       "      <th>0</th>\n",
       "      <td>review</td>\n",
       "      <td>sentiment</td>\n",
       "    </tr>\n",
       "    <tr>\n",
       "      <th>1</th>\n",
       "      <td>This movie is just crap. Even though the direc...</td>\n",
       "      <td>0</td>\n",
       "    </tr>\n",
       "    <tr>\n",
       "      <th>2</th>\n",
       "      <td>Another detailed work on the subject by Dr Dwi...</td>\n",
       "      <td>1</td>\n",
       "    </tr>\n",
       "    <tr>\n",
       "      <th>3</th>\n",
       "      <td>THE CAT O'NINE TAILS (Il Gatto a Nove Code) &lt;b...</td>\n",
       "      <td>0</td>\n",
       "    </tr>\n",
       "    <tr>\n",
       "      <th>4</th>\n",
       "      <td>Like with any movie genre, there are good gang...</td>\n",
       "      <td>0</td>\n",
       "    </tr>\n",
       "  </tbody>\n",
       "</table>\n",
       "</div>"
      ],
      "text/plain": [
       "                                              review  sentiment\n",
       "0                                             review  sentiment\n",
       "1  This movie is just crap. Even though the direc...          0\n",
       "2  Another detailed work on the subject by Dr Dwi...          1\n",
       "3  THE CAT O'NINE TAILS (Il Gatto a Nove Code) <b...          0\n",
       "4  Like with any movie genre, there are good gang...          0"
      ]
     },
     "execution_count": 392,
     "metadata": {},
     "output_type": "execute_result"
    }
   ],
   "source": [
    "df.head()"
   ]
  },
  {
   "cell_type": "code",
   "execution_count": 393,
   "id": "f62a687d",
   "metadata": {},
   "outputs": [],
   "source": [
    "df=df.drop(0)"
   ]
  },
  {
   "cell_type": "code",
   "execution_count": 394,
   "id": "0d3001aa",
   "metadata": {},
   "outputs": [
    {
     "data": {
      "text/html": [
       "<div>\n",
       "<style scoped>\n",
       "    .dataframe tbody tr th:only-of-type {\n",
       "        vertical-align: middle;\n",
       "    }\n",
       "\n",
       "    .dataframe tbody tr th {\n",
       "        vertical-align: top;\n",
       "    }\n",
       "\n",
       "    .dataframe thead th {\n",
       "        text-align: right;\n",
       "    }\n",
       "</style>\n",
       "<table border=\"1\" class=\"dataframe\">\n",
       "  <thead>\n",
       "    <tr style=\"text-align: right;\">\n",
       "      <th></th>\n",
       "      <th>review</th>\n",
       "      <th>sentiment</th>\n",
       "    </tr>\n",
       "  </thead>\n",
       "  <tbody>\n",
       "    <tr>\n",
       "      <th>1</th>\n",
       "      <td>This movie is just crap. Even though the direc...</td>\n",
       "      <td>0</td>\n",
       "    </tr>\n",
       "    <tr>\n",
       "      <th>2</th>\n",
       "      <td>Another detailed work on the subject by Dr Dwi...</td>\n",
       "      <td>1</td>\n",
       "    </tr>\n",
       "    <tr>\n",
       "      <th>3</th>\n",
       "      <td>THE CAT O'NINE TAILS (Il Gatto a Nove Code) &lt;b...</td>\n",
       "      <td>0</td>\n",
       "    </tr>\n",
       "    <tr>\n",
       "      <th>4</th>\n",
       "      <td>Like with any movie genre, there are good gang...</td>\n",
       "      <td>0</td>\n",
       "    </tr>\n",
       "    <tr>\n",
       "      <th>5</th>\n",
       "      <td>I watched it with my mom and we were like...&lt;b...</td>\n",
       "      <td>0</td>\n",
       "    </tr>\n",
       "  </tbody>\n",
       "</table>\n",
       "</div>"
      ],
      "text/plain": [
       "                                              review sentiment\n",
       "1  This movie is just crap. Even though the direc...         0\n",
       "2  Another detailed work on the subject by Dr Dwi...         1\n",
       "3  THE CAT O'NINE TAILS (Il Gatto a Nove Code) <b...         0\n",
       "4  Like with any movie genre, there are good gang...         0\n",
       "5  I watched it with my mom and we were like...<b...         0"
      ]
     },
     "execution_count": 394,
     "metadata": {},
     "output_type": "execute_result"
    }
   ],
   "source": [
    "df.head()"
   ]
  },
  {
   "cell_type": "markdown",
   "id": "6b085c5d",
   "metadata": {},
   "source": [
    "Print some of the review along with its sentiment"
   ]
  },
  {
   "cell_type": "code",
   "execution_count": 395,
   "id": "21fbaa44",
   "metadata": {},
   "outputs": [
    {
     "name": "stdout",
     "output_type": "stream",
     "text": [
      "This movie is just crap. Even though the directors claim to be part of that oi-culture, it's still a very, very bad directorial debut. The topic itself is very interesting and I accept the bad acting due to the fact, that they are all amateurs and never acted before, but the worst thing about this film are the dialogs and very unexperienced and naive directing. There's no timing at all in that movie. I felt like the directors were so exited to do that movie (it's their first feature), that they actually never really asked themselves, what story they wanna tell. I met Ben (one of the directors) on several occasions and he's a nice and thoughtful guy, but that doesn't make him a director. I think, that \"American History X\" is full of clichÃƒÂ©s, but somehow manages to transport a story. \"Oi!Warning\" is full of clichÃƒÂ©s, doesn't tell anything new or provocative and (-that's the sad thing about this movie) it's far from any Oi!-Reality.<br /><br />If you wanna see weird but great German films, watch the movies of Michael Haneke, Christoph Schlingensief, Oskar Roehler, Hans Weingartner or Oliver Hirschbiegel:<br /><br />Benny's Video Funny Games Die UnberÃƒÂ¼hrbare Mein Letzter Film Das Experiment Das Weisse Rauschen MuxmÃƒÂ¤uschenstill ...<br /><br />*** out of ten, because of the topic and the photography - 0\n",
      "\n",
      "Another detailed work on the subject by Dr Dwivedi takes us back in time to pre-partioned Panjab. Dr Dwivedi chose a difficult subject for his movie debut. He has worked on all meticulous details to bring the story to life. The treatment of the subject is very delicate.<br /><br />Even though we have not been to the region during that time, the sets and costumes look real. Unlike most movies made on partition, this one focuses not on the gory details of violence to attract audience, but on its after-effects. The characters come to life. Priyanshu Chatterjee has given an impressive performance. Manoj Bajpai has acted his heart out showing the plight of a guilt-ridden man. The rest of the cast has done a good job too. - 1\n",
      "\n",
      "THE CAT O'NINE TAILS (Il Gatto a Nove Code) <br /><br />Aspect ratio: 2.35:1 (Cromoscope)<br /><br />Sound format: Mono<br /><br />(35mm and 70mm release prints)<br /><br />A blind ex-journalist (Karl Malden) overhears a blackmail plot outside a genetics research laboratory and later teams up with a fellow reporter (James Franciscus) to investigate a series of murders at the lab, unwittingly placing their own loved ones at the mercy of a psychopathic killer.<br /><br />Rushed into production following the unexpected worldwide success of his directorial debut THE BIRD WITH THE CRYSTAL PLUMAGE (1969), Dario Argento conceived THE CAT O'NINE TAILS as a giallo-thriller in much the same vein as its forerunner, toplining celebrated Hollywood actor Karl Malden - fresh from his appearance in PATTON (1969) - and rising star Franciscus (THE VALLEY OF GWANGI). Sadly, the resulting film - which the ads claimed was 'nine times more suspenseful' than \"Bird\" - is a disappointing follow-up, impeccably photographed and stylishly executed, but too plodding and aimless for general consumption.<br /><br />Malden and Franciscus are eminently watchable in sympathetic roles, and cinematographer Enrico Menczer (THE DEAD ARE ALIVE) uses the wide Cromoscope frame to convey the hi-tech world in which Argento's dark-hearted scenario unfolds, but the subplot involving Euro starlet Catherine Spaak (THE LIBERTINE) as Franciscus' romantic interest amounts to little more than unnecessary padding. Highlights include an unforgettable encounter with the black-gloved assassin in a crowded railway station (edited with sleek assurance by cult movie stalwart Franco Fraticelli), and a nocturnal episode in which Malden and Franciscus seek an important clue inside a mouldering tomb and fall prey to the killer's devious machinations. But despite these flashes of brilliance, the film rambles aimlessly from one scene to the next, simmering gently without ever really coming to the boil. It's no surprise that \"Cat\" failed to emulate the runaway success of \"Bird\" when released in 1971.<br /><br />(English version) - 0\n",
      "\n",
      "Like with any movie genre, there are good gangster movies and there are bad gangster movies. If you asked me to name a good gangster movie, I'd have dozens to choose from. If you asked me to name a bad gangster movie, probably the first one to pop up in my mind is one that still has me in a sort of depression of disappointment about a week since I saw the film for the first and I promise you, the last time. That film is \"The General\", unrelated to the 1926 silent film of the same name. This is a very dry, very slow gangster epic that raises questions not about the story (it's more than easy to follow) but about why the filmmakers chose to make this rather flimsy endeavor.<br /><br />Like \"Goodfellas\" (1990) and \"American Gangster\" (2007)Ã‚â€”two superior mob moviesÃ‚â€”\"The General\" is based on real people and true events. The film revolves around an Irish criminal named Martin Cahill (Brendan Gleeson) who started his long chain of crimes stealing food as a teenager and then moving up to robbing museums and houses as an adult. Meanwhile, the police led by an inspector named Kenny (Jon Voight) try desperately and vigorously to prove just one of his crimes and convict (or kill) him.<br /><br />Perhaps because it's a film in the same category as the marvelous \"Goodfellas\" (1990) and the first two \"Godfather\" films, I was expecting too much from \"The General.\" But that may be going too easy on it. This would have been a bad film had I not seen the aforementioned masterpieces before being swamped by boredom in this oater and its far-too-stretched running time of screaming bad scenes. Let's start knocking the film by just looking at the style in which it is presented. For some reason, director John Boorman and cinematographer Seamus Deasy selected to film this movie in black-and-white while its style and presentation are clearly the elements that belong to a full-fledged color film. Now I have nothing against b/w pictures, not even ones made in modern-day times. \"Schindler's List\" (1993) was more than ninety percent filmed in black-and-white and it's a masterpiece. \"The General\", made just five years after \"Schindler's List\" is not. The cinematography is also far too blown out with high lighting keys that seem very distracting and give the movie a very video-game-like quality that I found simply annoying. The filmmakers were obviously going for a realist's documentary-like style, like \"Schindler's List\" did, but they fail by making it seem too much like a documentary and at the same time, too much like a classic-style motion picture. Performances in the film range from passable to poor. Brendan Gleeson and Jon Voight gave decent enthusiasm for their roles, but it seemed to me at times that even they were getting kind of run down by the awful screenplay from which they were quoting. The sound design is also very primitive, probably in an attempt to give it a 40s crime-noir appeal, but that also fails because again, it's made too much like a contemporary picture and seems vastly out of place.<br /><br />But the worst thing that occurs is that there's not oneÃ‚â€”not oneÃ‚â€”character in the film that I felt any emotions or opinions for. In fact, for every moment of every scene, the only thought going through my head was \"okayÃ‚â€¦so what?\" Moments that in a better film might come across as shocking or appalling are just dull and time-consuming here. I did not sympathize or hate the Brendan Gleeson character because the way the Cahill character is written is simply flat and dull. Gleeson just plays the common criminal and does not strike out with the impact the real Martin Cahill obviously did. If a character is killed off (as they always are in gangster films), we feel nothing. No remorse, no relief, no surprise, nothing. We just say \"so what?\" And that's all I did during the entire running time of this very flimsy, very poorly-made crime film. - 0\n",
      "\n",
      "I watched it with my mom and we were like...<br /><br />What the hell? We didn't get it at all. I may have this wrong, but a chair had something to do with the death of this woman's father. That movie was terrible! This is not a movie for those who love a good suspense movie. Bad suspense movie! *shakes cane at movie* I'm never seeing it again. And I'm a big fan of lifetime movies, too! They kinda need to quit trying to make movies outta books. It's driving me crazy!!!<br /><br />And Whit was butt-ugly and yet, she loves him more than Hugh, who was a TINY bit nicer-looking.<br /><br />My rating: 1/10 - 0\n",
      "\n",
      "This movie is probably one of 3 worst movies made in history. I rented this by chance, without reading reviews, and wow, do I regret it. Really has no plot, doesn't really follow the vampire genre. Just plain god awful. Watching this movie will taint your enthusiasm for vampire movies. I felt like the writer/director/producer went on this drug binge and had hallucinations and tried to recreate it on film. Whole time I wanted the movie to end.. but the ending was even more whacked. <br /><br />If this review can save just one person from watching this crap, I felt my time spent on registration and writing this review was well worth it. - 0\n",
      "\n",
      "this movie is quite bad, aggressive, not played well, not directed well, seems low budget, low quality,emotionaly weak and disconnected. after watching earlier comments, went to see it, but if u try to compare it with apocalypse now, PLATOON, or any others, u'r really off the tracks. this movie looks like a 60's old and purely made film with cast of grown neanderthals, not to mention (or actually do), not paying attention to details like changing rounds, low budget fireworks and all sorts of poorly filmed characteristic. is watchable though, if u'd like to see it as an early development of the movies document.. not to go back!!<br /><br />p.s - afterall, the guys are quite alright. - 0\n",
      "\n",
      "And a perfect film to watch during the holiday season as the winter/Xmas atmosphere that Burton creates for Gotham City is way cool. It's weird that Warner decided to release this as a summer film. It doesn't fit.<br /><br />But what's even weirder, when you consider the content of this film, is that it was aimed at families. An upper-class family throws their mutant baby down the sewer, a socio phobic billionaire dresses up in leather as a flying rodent, a lonely secretary dresses up in leather as a feline and a freak runs for political office. And S&M and bondage are presented in a very perverted way. But Burton got away with it. His visual style in this film is at it's best.<br /><br />This and Batman: Dead End are the only true live-action incarnations of the comic-book character. True, the animated series was the closest to the source material, but compared with Batman Forever and the un-nameable one after that, Batman Returns is the best of the four.<br /><br />Darker and more violent than the first movie, the sense of Gothic pathos reaches a new high. I was quite keen on Michael Keaton as Bruce Wayne (don't even get me started on George Clooney!), he displayed the right balance of weirdo loner and cool crime fighter. Michelle Pfieffer is great as Catwoman (much sexier and more 'realisticly' cat-like), she wears that leather outfit better than Halle Berry. And Danny DeVito was so convincing as the Penguin that his scenes became disturbing to watch. And Christopher Walken is brilliant as the spooky Max Shreck (if you think you recognise Chip Shrek it's none other than a very young Leatherface/Butterfinger).<br /><br />Danny Elfman's score is also even better than it was first time round. His powerful and engaging themes are way better than the dross that followed in the later 2 Schumacher movies. This movie is the Batman phenomenon at its Zenith. Forget the following sequels and stick to the animated series after this. Let's hope that Christopher Nolan and Christian Bale can bring some integrity back to the live action Batman with their movie next year.<br /><br />This DVD was one of the first ever DVDs released by Warner (almost 7 years ago!!!) and as a result there are NO features and the case is a snapper. Pick it up cheap like I did and hope for an SE in the future. - 1\n",
      "\n",
      "I like Noel Coward, the wit. I like Noel Coward, the play write. I like Noel Coward, the composer and singer, but I loathe Noel Coward the actor.<br /><br />To me this is a man who should have stayed firmly behind the scenes, writing his plays and composing his music and making his profound and hilarious observations. He should never have been allowed in front of a camera.<br /><br />Make no mistake, he is one of the top outstanding talents of the 20th century but the man just couldn't act, and his voice...with it's rolling R's and it's overly round tonal quality...well it could quite easily grate cheese in my opinion.<br /><br />This is one of my least favourite offerings from Coward, as he unconvincingly portrays a psychiatrist embarking on an affair with a much younger woman, made worse by the fact that the much younger woman is an old school friend of his much younger wife.<br /><br />Celia Johnson is as much a joy to watch as ever as Cowards wronged wife. It is her performance that saves this film from abject dullness. I suppose her own little fling in Coward's Brief Encounter four years previously qualified her for this role as she must have raised a few eyebrows playing a such a promiscuous woman and this gave her the chance to win back a few fans and gain some lost sympathy.<br /><br />She was such a wonderful actress and you can see why Noel Coward used her so much in many of his productions.<br /><br />However the rest of the film is drab, badly acted, predictable and on the whole boring to almost arse-clenching level.<br /><br />If its Noel Coward you want then take the time to watch In Which We Serve, Blythe Spirit or This Happy Breed instead. Three Noel Coward treasures. With lovely films like these I suppose we can forgive him for this turkey.<br /><br />I have given this four stars purely for the addition of Miss Johnson, but on the whole I'd avoid this one like the plague. - 0\n",
      "\n"
     ]
    }
   ],
   "source": [
    "for i in range(1,10):\n",
    "    print(df['review'][i],'-', df['sentiment'][i])\n",
    "    print()"
   ]
  },
  {
   "cell_type": "markdown",
   "id": "84f84af0",
   "metadata": {},
   "source": [
    "View info"
   ]
  },
  {
   "cell_type": "code",
   "execution_count": 396,
   "id": "89dc8140",
   "metadata": {},
   "outputs": [
    {
     "name": "stdout",
     "output_type": "stream",
     "text": [
      "<class 'pandas.core.frame.DataFrame'>\n",
      "RangeIndex: 15773 entries, 1 to 15773\n",
      "Data columns (total 2 columns):\n",
      " #   Column     Non-Null Count  Dtype \n",
      "---  ------     --------------  ----- \n",
      " 0   review     15773 non-null  object\n",
      " 1   sentiment  15772 non-null  object\n",
      "dtypes: object(2)\n",
      "memory usage: 246.6+ KB\n"
     ]
    }
   ],
   "source": [
    "df.info()"
   ]
  },
  {
   "cell_type": "markdown",
   "id": "760280f4",
   "metadata": {},
   "source": [
    "drop null values"
   ]
  },
  {
   "cell_type": "code",
   "execution_count": 397,
   "id": "c599366e",
   "metadata": {},
   "outputs": [
    {
     "data": {
      "text/plain": [
       "review       0\n",
       "sentiment    1\n",
       "dtype: int64"
      ]
     },
     "execution_count": 397,
     "metadata": {},
     "output_type": "execute_result"
    }
   ],
   "source": [
    "df.isna().sum()"
   ]
  },
  {
   "cell_type": "code",
   "execution_count": 398,
   "id": "0773b15f",
   "metadata": {},
   "outputs": [],
   "source": [
    "df=df.dropna()"
   ]
  },
  {
   "cell_type": "code",
   "execution_count": 399,
   "id": "c9a40134",
   "metadata": {},
   "outputs": [
    {
     "data": {
      "text/plain": [
       "review       0\n",
       "sentiment    0\n",
       "dtype: int64"
      ]
     },
     "execution_count": 399,
     "metadata": {},
     "output_type": "execute_result"
    }
   ],
   "source": [
    "df.isna().sum()"
   ]
  },
  {
   "cell_type": "markdown",
   "id": "ff590a3d",
   "metadata": {},
   "source": [
    "View basic statistical information about the dataset"
   ]
  },
  {
   "cell_type": "code",
   "execution_count": 400,
   "id": "f44db6f7",
   "metadata": {},
   "outputs": [
    {
     "data": {
      "text/html": [
       "<div>\n",
       "<style scoped>\n",
       "    .dataframe tbody tr th:only-of-type {\n",
       "        vertical-align: middle;\n",
       "    }\n",
       "\n",
       "    .dataframe tbody tr th {\n",
       "        vertical-align: top;\n",
       "    }\n",
       "\n",
       "    .dataframe thead th {\n",
       "        text-align: right;\n",
       "    }\n",
       "</style>\n",
       "<table border=\"1\" class=\"dataframe\">\n",
       "  <thead>\n",
       "    <tr style=\"text-align: right;\">\n",
       "      <th></th>\n",
       "      <th>review</th>\n",
       "      <th>sentiment</th>\n",
       "    </tr>\n",
       "  </thead>\n",
       "  <tbody>\n",
       "    <tr>\n",
       "      <th>count</th>\n",
       "      <td>15772</td>\n",
       "      <td>15772</td>\n",
       "    </tr>\n",
       "    <tr>\n",
       "      <th>unique</th>\n",
       "      <td>15739</td>\n",
       "      <td>2</td>\n",
       "    </tr>\n",
       "    <tr>\n",
       "      <th>top</th>\n",
       "      <td>The movie was excellent, save for some of the ...</td>\n",
       "      <td>1</td>\n",
       "    </tr>\n",
       "    <tr>\n",
       "      <th>freq</th>\n",
       "      <td>2</td>\n",
       "      <td>7941</td>\n",
       "    </tr>\n",
       "  </tbody>\n",
       "</table>\n",
       "</div>"
      ],
      "text/plain": [
       "                                                   review sentiment\n",
       "count                                               15772     15772\n",
       "unique                                              15739         2\n",
       "top     The movie was excellent, save for some of the ...         1\n",
       "freq                                                    2      7941"
      ]
     },
     "execution_count": 400,
     "metadata": {},
     "output_type": "execute_result"
    }
   ],
   "source": [
    "df.describe()"
   ]
  },
  {
   "cell_type": "markdown",
   "id": "f06b90df",
   "metadata": {},
   "source": [
    "check for duplicated values"
   ]
  },
  {
   "cell_type": "code",
   "execution_count": 401,
   "id": "0222e589",
   "metadata": {},
   "outputs": [
    {
     "data": {
      "text/plain": [
       "33"
      ]
     },
     "execution_count": 401,
     "metadata": {},
     "output_type": "execute_result"
    }
   ],
   "source": [
    "df.duplicated().sum()"
   ]
  },
  {
   "cell_type": "code",
   "execution_count": 402,
   "id": "9fcbb0fa",
   "metadata": {},
   "outputs": [],
   "source": [
    "df.drop_duplicates(inplace= True, keep = 'first')"
   ]
  },
  {
   "cell_type": "code",
   "execution_count": 403,
   "id": "dfdddafc",
   "metadata": {},
   "outputs": [
    {
     "data": {
      "text/plain": [
       "0"
      ]
     },
     "execution_count": 403,
     "metadata": {},
     "output_type": "execute_result"
    }
   ],
   "source": [
    "df.duplicated().sum()"
   ]
  },
  {
   "cell_type": "markdown",
   "id": "8a605f48",
   "metadata": {},
   "source": [
    "Plot a countplot of 'sentiment'"
   ]
  },
  {
   "cell_type": "code",
   "execution_count": 404,
   "id": "33c58025",
   "metadata": {},
   "outputs": [
    {
     "data": {
      "image/png": "[encoded data removed]",
      "text/plain": [
       "<Figure size 500x300 with 1 Axes>"
      ]
     },
     "metadata": {},
     "output_type": "display_data"
    }
   ],
   "source": [
    "plt.figure(figsize = (5,3))\n",
    "sns.countplot(y = df['sentiment'])\n",
    "plt.show()"
   ]
  },
  {
   "cell_type": "markdown",
   "id": "66108d0e",
   "metadata": {},
   "source": [
    "Create a function to preprocess the text"
   ]
  },
  {
   "cell_type": "code",
   "execution_count": 405,
   "id": "83f1cdf1",
   "metadata": {},
   "outputs": [],
   "source": [
    "import re\n",
    "from nltk.stem import WordNetLemmatizer"
   ]
  },
  {
   "cell_type": "code",
   "execution_count": 406,
   "id": "b9697469",
   "metadata": {},
   "outputs": [],
   "source": [
    "def preprocess(sentence):\n",
    "    sentence=sentence.lower()\n",
    "    text=re.sub(r'[^0-9a-zA-Z]',' ',sentence).split()\n",
    "    lemma=WordNetLemmatizer()\n",
    "    text=[lemma.lemmatize(word,'v') for word in text]\n",
    "    return ' '.join(text)"
   ]
  },
  {
   "cell_type": "markdown",
   "id": "b452d545",
   "metadata": {},
   "source": [
    " Apply the function on review column"
   ]
  },
  {
   "cell_type": "code",
   "execution_count": 407,
   "id": "70a803fa",
   "metadata": {},
   "outputs": [],
   "source": [
    "df['review'] = df['review'].apply(preprocess)"
   ]
  },
  {
   "cell_type": "markdown",
   "id": "1499fdb2",
   "metadata": {},
   "source": [
    "Print some of the texts after the preprocess"
   ]
  },
  {
   "cell_type": "code",
   "execution_count": 408,
   "id": "63900b66",
   "metadata": {},
   "outputs": [
    {
     "name": "stdout",
     "output_type": "stream",
     "text": [
      "this movie be just crap even though the directors claim to be part of that oi culture it s still a very very bad directorial debut the topic itself be very interest and i accept the bad act due to the fact that they be all amateurs and never act before but the worst thing about this film be the dialogs and very unexperienced and naive direct there s no time at all in that movie i felt like the directors be so exit to do that movie it s their first feature that they actually never really ask themselves what story they wanna tell i meet ben one of the directors on several occasion and he s a nice and thoughtful guy but that doesn t make him a director i think that american history x be full of clich s but somehow manage to transport a story oi warn be full of clich s doesn t tell anything new or provocative and that s the sad thing about this movie it s far from any oi reality br br if you wanna see weird but great german film watch the movies of michael haneke christoph schlingensief oskar roehler hans weingartner or oliver hirschbiegel br br benny s video funny game die unber hrbare mein letzter film das experiment das weisse rauschen muxm uschenstill br br out of ten because of the topic and the photography\n",
      "\n",
      "another detail work on the subject by dr dwivedi take us back in time to pre partioned panjab dr dwivedi choose a difficult subject for his movie debut he have work on all meticulous detail to bring the story to life the treatment of the subject be very delicate br br even though we have not be to the region during that time the set and costume look real unlike most movies make on partition this one focus not on the gory detail of violence to attract audience but on its after effect the character come to life priyanshu chatterjee have give an impressive performance manoj bajpai have act his heart out show the plight of a guilt ride man the rest of the cast have do a good job too\n",
      "\n",
      "the cat o nine tail il gatto a nove code br br aspect ratio 2 35 1 cromoscope br br sound format mono br br 35mm and 70mm release print br br a blind ex journalist karl malden overhear a blackmail plot outside a genetics research laboratory and later team up with a fellow reporter jam franciscus to investigate a series of murder at the lab unwittingly place their own love ones at the mercy of a psychopathic killer br br rush into production follow the unexpected worldwide success of his directorial debut the bird with the crystal plumage 1969 dario argento conceive the cat o nine tail as a giallo thriller in much the same vein as its forerunner toplining celebrate hollywood actor karl malden fresh from his appearance in patton 1969 and rise star franciscus the valley of gwangi sadly the result film which the ads claim be nine time more suspenseful than bird be a disappoint follow up impeccably photograph and stylishly execute but too plod and aimless for general consumption br br malden and franciscus be eminently watchable in sympathetic roles and cinematographer enrico menczer the dead be alive use the wide cromoscope frame to convey the hi tech world in which argento s dark hearted scenario unfold but the subplot involve euro starlet catherine spaak the libertine as franciscus romantic interest amount to little more than unnecessary pad highlight include an unforgettable encounter with the black gloved assassin in a crowd railway station edit with sleek assurance by cult movie stalwart franco fraticelli and a nocturnal episode in which malden and franciscus seek an important clue inside a moulder tomb and fall prey to the killer s devious machinations but despite these flash of brilliance the film ramble aimlessly from one scene to the next simmer gently without ever really come to the boil it s no surprise that cat fail to emulate the runaway success of bird when release in 1971 br br english version\n",
      "\n",
      "like with any movie genre there be good gangster movies and there be bad gangster movies if you ask me to name a good gangster movie i d have dozens to choose from if you ask me to name a bad gangster movie probably the first one to pop up in my mind be one that still have me in a sort of depression of disappointment about a week since i saw the film for the first and i promise you the last time that film be the general unrelated to the 1926 silent film of the same name this be a very dry very slow gangster epic that raise question not about the story it s more than easy to follow but about why the filmmakers choose to make this rather flimsy endeavor br br like goodfellas 1990 and american gangster 2007 two superior mob movies the general be base on real people and true events the film revolve around an irish criminal name martin cahill brendan gleeson who start his long chain of crimes steal food as a teenager and then move up to rob museums and house as an adult meanwhile the police lead by an inspector name kenny jon voight try desperately and vigorously to prove just one of his crimes and convict or kill him br br perhaps because it s a film in the same category as the marvelous goodfellas 1990 and the first two godfather film i be expect too much from the general but that may be go too easy on it this would have be a bad film have i not see the aforementioned masterpieces before be swamp by boredom in this oater and its far too stretch run time of scream bad scenes let s start knock the film by just look at the style in which it be present for some reason director john boorman and cinematographer seamus deasy select to film this movie in black and white while its style and presentation be clearly the elements that belong to a full fledge color film now i have nothing against b w picture not even ones make in modern day time schindler s list 1993 be more than ninety percent film in black and white and it s a masterpiece the general make just five years after schindler s list be not the cinematography be also far too blow out with high light key that seem very distract and give the movie a very video game like quality that i find simply annoy the filmmakers be obviously go for a realist s documentary like style like schindler s list do but they fail by make it seem too much like a documentary and at the same time too much like a classic style motion picture performances in the film range from passable to poor brendan gleeson and jon voight give decent enthusiasm for their roles but it seem to me at time that even they be get kind of run down by the awful screenplay from which they be quote the sound design be also very primitive probably in an attempt to give it a 40s crime noir appeal but that also fail because again it s make too much like a contemporary picture and seem vastly out of place br br but the worst thing that occur be that there s not one not one character in the film that i felt any emotions or opinions for in fact for every moment of every scene the only think go through my head be okay so what moments that in a better film might come across as shock or appal be just dull and time consume here i do not sympathize or hate the brendan gleeson character because the way the cahill character be write be simply flat and dull gleeson just play the common criminal and do not strike out with the impact the real martin cahill obviously do if a character be kill off as they always be in gangster film we feel nothing no remorse no relief no surprise nothing we just say so what and that s all i do during the entire run time of this very flimsy very poorly make crime film\n",
      "\n",
      "i watch it with my mom and we be like br br what the hell we didn t get it at all i may have this wrong but a chair have something to do with the death of this woman s father that movie be terrible this be not a movie for those who love a good suspense movie bad suspense movie shake cane at movie i m never see it again and i m a big fan of lifetime movies too they kinda need to quit try to make movies outta book it s drive me crazy br br and whit be butt ugly and yet she love him more than hugh who be a tiny bite nicer look br br my rat 1 10\n",
      "\n",
      "this movie be probably one of 3 worst movies make in history i rent this by chance without read review and wow do i regret it really have no plot doesn t really follow the vampire genre just plain god awful watch this movie will taint your enthusiasm for vampire movies i felt like the writer director producer go on this drug binge and have hallucinations and try to recreate it on film whole time i want the movie to end but the end be even more whack br br if this review can save just one person from watch this crap i felt my time spend on registration and write this review be well worth it\n",
      "\n",
      "this movie be quite bad aggressive not play well not direct well seem low budget low quality emotionaly weak and disconnect after watch earlier comment go to see it but if u try to compare it with apocalypse now platoon or any others u r really off the track this movie look like a 60 s old and purely make film with cast of grow neanderthals not to mention or actually do not pay attention to detail like change round low budget fireworks and all sort of poorly film characteristic be watchable though if u d like to see it as an early development of the movies document not to go back br br p s afterall the guy be quite alright\n",
      "\n",
      "and a perfect film to watch during the holiday season as the winter xmas atmosphere that burton create for gotham city be way cool it s weird that warner decide to release this as a summer film it doesn t fit br br but what s even weirder when you consider the content of this film be that it be aim at families an upper class family throw their mutant baby down the sewer a socio phobic billionaire dress up in leather as a fly rodent a lonely secretary dress up in leather as a feline and a freak run for political office and s m and bondage be present in a very pervert way but burton get away with it his visual style in this film be at it s best br br this and batman dead end be the only true live action incarnations of the comic book character true the animate series be the closest to the source material but compare with batman forever and the un nameable one after that batman return be the best of the four br br darker and more violent than the first movie the sense of gothic pathos reach a new high i be quite keen on michael keaton as bruce wayne don t even get me start on george clooney he display the right balance of weirdo loner and cool crime fighter michelle pfieffer be great as catwoman much sexier and more realisticly cat like she wear that leather outfit better than halle berry and danny devito be so convince as the penguin that his scenes become disturb to watch and christopher walken be brilliant as the spooky max shreck if you think you recognise chip shrek it s none other than a very young leatherface butterfinger br br danny elfman s score be also even better than it be first time round his powerful and engage theme be way better than the dross that follow in the later 2 schumacher movies this movie be the batman phenomenon at its zenith forget the follow sequels and stick to the animate series after this let s hope that christopher nolan and christian bale can bring some integrity back to the live action batman with their movie next year br br this dvd be one of the first ever dvds release by warner almost 7 years ago and as a result there be no feature and the case be a snapper pick it up cheap like i do and hope for an se in the future\n",
      "\n",
      "i like noel coward the wit i like noel coward the play write i like noel coward the composer and singer but i loathe noel coward the actor br br to me this be a man who should have stay firmly behind the scenes write his play and compose his music and make his profound and hilarious observations he should never have be allow in front of a camera br br make no mistake he be one of the top outstanding talents of the 20th century but the man just couldn t act and his voice with it s roll r s and it s overly round tonal quality well it could quite easily grate cheese in my opinion br br this be one of my least favourite offer from coward as he unconvincingly portray a psychiatrist embark on an affair with a much younger woman make worse by the fact that the much younger woman be an old school friend of his much younger wife br br celia johnson be as much a joy to watch as ever as cowards wrong wife it be her performance that save this film from abject dullness i suppose her own little fling in coward s brief encounter four years previously qualify her for this role as she must have raise a few eyebrows play a such a promiscuous woman and this give her the chance to win back a few fan and gain some lose sympathy br br she be such a wonderful actress and you can see why noel coward use her so much in many of his productions br br however the rest of the film be drab badly act predictable and on the whole bore to almost arse clench level br br if its noel coward you want then take the time to watch in which we serve blythe spirit or this happy breed instead three noel coward treasure with lovely film like these i suppose we can forgive him for this turkey br br i have give this four star purely for the addition of miss johnson but on the whole i d avoid this one like the plague\n",
      "\n"
     ]
    }
   ],
   "source": [
    "for i in range(1,10):\n",
    "    print(df['review'][i])\n",
    "    print()"
   ]
  },
  {
   "cell_type": "markdown",
   "id": "ea62816d",
   "metadata": {},
   "source": [
    "Split the dataset into Input and Target Variables"
   ]
  },
  {
   "cell_type": "code",
   "execution_count": 409,
   "id": "a5e97998",
   "metadata": {},
   "outputs": [],
   "source": [
    "X = df['review']\n",
    "y = df['sentiment']"
   ]
  },
  {
   "cell_type": "markdown",
   "id": "de01df54",
   "metadata": {},
   "source": [
    "One Hot encode the Target variables"
   ]
  },
  {
   "cell_type": "code",
   "execution_count": 410,
   "id": "fd2fff80",
   "metadata": {},
   "outputs": [],
   "source": [
    "from sklearn.preprocessing import LabelBinarizer"
   ]
  },
  {
   "cell_type": "code",
   "execution_count": 411,
   "id": "e5b72dcd",
   "metadata": {},
   "outputs": [],
   "source": [
    "encoder = LabelBinarizer()\n",
    "y = encoder.fit_transform(y)"
   ]
  },
  {
   "cell_type": "code",
   "execution_count": 412,
   "id": "637d1e94",
   "metadata": {},
   "outputs": [
    {
     "data": {
      "text/plain": [
       "(15739, 1)"
      ]
     },
     "execution_count": 412,
     "metadata": {},
     "output_type": "execute_result"
    }
   ],
   "source": [
    "y.shape"
   ]
  },
  {
   "cell_type": "code",
   "execution_count": 413,
   "id": "3a34f1a0",
   "metadata": {},
   "outputs": [
    {
     "data": {
      "text/plain": [
       "array([[0],\n",
       "       [1],\n",
       "       [0],\n",
       "       ...,\n",
       "       [1],\n",
       "       [0],\n",
       "       [0]])"
      ]
     },
     "execution_count": 413,
     "metadata": {},
     "output_type": "execute_result"
    }
   ],
   "source": [
    "y"
   ]
  },
  {
   "cell_type": "markdown",
   "id": "a65443ac",
   "metadata": {},
   "source": [
    "Split the dataset into Training and Testing Set"
   ]
  },
  {
   "cell_type": "code",
   "execution_count": 414,
   "id": "44a84379",
   "metadata": {},
   "outputs": [],
   "source": [
    "X_train, X_test, y_train, y_test = train_test_split(X,y, test_size = 0.2)"
   ]
  },
  {
   "cell_type": "markdown",
   "id": "d1d193c6",
   "metadata": {},
   "source": [
    "Convert text to Sequence and add padding"
   ]
  },
  {
   "cell_type": "code",
   "execution_count": 415,
   "id": "97c77dc9",
   "metadata": {},
   "outputs": [],
   "source": [
    "from tensorflow.keras.preprocessing.text import Tokenizer\n",
    "from keras.preprocessing.sequence import pad_sequences"
   ]
  },
  {
   "cell_type": "code",
   "execution_count": 416,
   "id": "a08cda81",
   "metadata": {},
   "outputs": [],
   "source": [
    "tokenizer = Tokenizer(num_words=128)"
   ]
  },
  {
   "cell_type": "code",
   "execution_count": 417,
   "id": "cfe87ca4",
   "metadata": {},
   "outputs": [],
   "source": [
    "tokenizer.fit_on_texts(X)"
   ]
  },
  {
   "cell_type": "code",
   "execution_count": 418,
   "id": "38d80fc0",
   "metadata": {},
   "outputs": [
    {
     "data": {
      "text/plain": [
       "{'the': 1,\n",
       " 'be': 2,\n",
       " 'and': 3,\n",
       " 'a': 4,\n",
       " 'of': 5,\n",
       " 'to': 6,\n",
       " 'br': 7,\n",
       " 'it': 8,\n",
       " 'in': 9,\n",
       " 'i': 10,\n",
       " 'this': 11,\n",
       " 'that': 12,\n",
       " 's': 13,\n",
       " 'have': 14,\n",
       " 'film': 15,\n",
       " 'as': 16,\n",
       " 'movie': 17,\n",
       " 'for': 18,\n",
       " 'with': 19,\n",
       " 'but': 20,\n",
       " 'you': 21,\n",
       " 't': 22,\n",
       " 'on': 23,\n",
       " 'not': 24,\n",
       " 'he': 25,\n",
       " 'his': 26,\n",
       " 'one': 27,\n",
       " 'do': 28,\n",
       " 'at': 29,\n",
       " 'all': 30,\n",
       " 'make': 31,\n",
       " 'they': 32,\n",
       " 'by': 33,\n",
       " 'like': 34,\n",
       " 'an': 35,\n",
       " 'who': 36,\n",
       " 'see': 37,\n",
       " 'so': 38,\n",
       " 'from': 39,\n",
       " 'there': 40,\n",
       " 'get': 41,\n",
       " 'her': 42,\n",
       " 'or': 43,\n",
       " 'out': 44,\n",
       " 'just': 45,\n",
       " 'about': 46,\n",
       " 'if': 47,\n",
       " 'time': 48,\n",
       " 'what': 49,\n",
       " 'some': 50,\n",
       " 'good': 51,\n",
       " 'can': 52,\n",
       " 'character': 53,\n",
       " 'when': 54,\n",
       " 'watch': 55,\n",
       " 'go': 56,\n",
       " 'more': 57,\n",
       " 'she': 58,\n",
       " 'very': 59,\n",
       " 'up': 60,\n",
       " 'even': 61,\n",
       " 'no': 62,\n",
       " 'my': 63,\n",
       " 'would': 64,\n",
       " 'think': 65,\n",
       " 'really': 66,\n",
       " 'only': 67,\n",
       " 'which': 68,\n",
       " 'story': 69,\n",
       " 'their': 70,\n",
       " 'show': 71,\n",
       " 'well': 72,\n",
       " 'we': 73,\n",
       " 'me': 74,\n",
       " 'look': 75,\n",
       " 'much': 76,\n",
       " 'than': 77,\n",
       " 'know': 78,\n",
       " 'end': 79,\n",
       " 'say': 80,\n",
       " 'will': 81,\n",
       " 'people': 82,\n",
       " 'other': 83,\n",
       " 'bad': 84,\n",
       " 'how': 85,\n",
       " 'into': 86,\n",
       " 'also': 87,\n",
       " 'great': 88,\n",
       " 'love': 89,\n",
       " 'because': 90,\n",
       " 'act': 91,\n",
       " 'don': 92,\n",
       " 'him': 93,\n",
       " 'give': 94,\n",
       " 'most': 95,\n",
       " 'first': 96,\n",
       " 'take': 97,\n",
       " 'play': 98,\n",
       " 'come': 99,\n",
       " 'then': 100,\n",
       " 'them': 101,\n",
       " 'could': 102,\n",
       " 'find': 103,\n",
       " 'its': 104,\n",
       " 'way': 105,\n",
       " 'too': 106,\n",
       " 'any': 107,\n",
       " 'movies': 108,\n",
       " 'after': 109,\n",
       " 'work': 110,\n",
       " 'seem': 111,\n",
       " 'many': 112,\n",
       " 'plot': 113,\n",
       " 'two': 114,\n",
       " 'life': 115,\n",
       " 'want': 116,\n",
       " 'where': 117,\n",
       " 'never': 118,\n",
       " 'try': 119,\n",
       " 'best': 120,\n",
       " 'little': 121,\n",
       " 'off': 122,\n",
       " 'ever': 123,\n",
       " 'over': 124,\n",
       " 'your': 125,\n",
       " 'man': 126,\n",
       " 'better': 127,\n",
       " 'these': 128,\n",
       " 'here': 129,\n",
       " 'scene': 130,\n",
       " 'still': 131,\n",
       " 'why': 132,\n",
       " 've': 133,\n",
       " 'feel': 134,\n",
       " 'scenes': 135,\n",
       " 'while': 136,\n",
       " 'm': 137,\n",
       " 'part': 138,\n",
       " 'use': 139,\n",
       " 'such': 140,\n",
       " 'should': 141,\n",
       " 'back': 142,\n",
       " 'something': 143,\n",
       " 'through': 144,\n",
       " 'lot': 145,\n",
       " 'real': 146,\n",
       " 'interest': 147,\n",
       " 'thing': 148,\n",
       " 'those': 149,\n",
       " 'now': 150,\n",
       " 're': 151,\n",
       " 'guy': 152,\n",
       " 'doesn': 153,\n",
       " 'director': 154,\n",
       " 'though': 155,\n",
       " 'years': 156,\n",
       " '10': 157,\n",
       " 'old': 158,\n",
       " 'leave': 159,\n",
       " 'didn': 160,\n",
       " 'live': 161,\n",
       " 'funny': 162,\n",
       " 'star': 163,\n",
       " 'actors': 164,\n",
       " 'cast': 165,\n",
       " 'tell': 166,\n",
       " 'before': 167,\n",
       " 'write': 168,\n",
       " 'actually': 169,\n",
       " 'another': 170,\n",
       " 'same': 171,\n",
       " 'start': 172,\n",
       " 'nothing': 173,\n",
       " 'point': 174,\n",
       " 'few': 175,\n",
       " 'every': 176,\n",
       " 'new': 177,\n",
       " 'set': 178,\n",
       " 'again': 179,\n",
       " 'world': 180,\n",
       " 'become': 181,\n",
       " 'down': 182,\n",
       " 'kill': 183,\n",
       " 'pretty': 184,\n",
       " 'turn': 185,\n",
       " 'us': 186,\n",
       " 'quite': 187,\n",
       " 'action': 188,\n",
       " 'happen': 189,\n",
       " 'things': 190,\n",
       " 'horror': 191,\n",
       " 'fact': 192,\n",
       " 'enough': 193,\n",
       " 'young': 194,\n",
       " 'mean': 195,\n",
       " 'around': 196,\n",
       " 'long': 197,\n",
       " 'however': 198,\n",
       " 'both': 199,\n",
       " 'line': 200,\n",
       " 'right': 201,\n",
       " 'big': 202,\n",
       " 'between': 203,\n",
       " 'keep': 204,\n",
       " 'may': 205,\n",
       " 'own': 206,\n",
       " 'must': 207,\n",
       " 'fan': 208,\n",
       " 'music': 209,\n",
       " 'comedy': 210,\n",
       " 'bite': 211,\n",
       " 'd': 212,\n",
       " 'without': 213,\n",
       " 'need': 214,\n",
       " 'almost': 215,\n",
       " 'isn': 216,\n",
       " 'series': 217,\n",
       " 'shoot': 218,\n",
       " 'enjoy': 219,\n",
       " 'begin': 220,\n",
       " 'kid': 221,\n",
       " 'saw': 222,\n",
       " 'always': 223,\n",
       " 'put': 224,\n",
       " 'script': 225,\n",
       " 'least': 226,\n",
       " 'whole': 227,\n",
       " 'original': 228,\n",
       " 'last': 229,\n",
       " 'lead': 230,\n",
       " 'laugh': 231,\n",
       " 'place': 232,\n",
       " 'far': 233,\n",
       " 'role': 234,\n",
       " 'call': 235,\n",
       " 'believe': 236,\n",
       " 'book': 237,\n",
       " 'family': 238,\n",
       " 'll': 239,\n",
       " 'run': 240,\n",
       " 'let': 241,\n",
       " 'anything': 242,\n",
       " 'effect': 243,\n",
       " 'name': 244,\n",
       " 'might': 245,\n",
       " '2': 246,\n",
       " 'minutes': 247,\n",
       " 'reason': 248,\n",
       " 'screen': 249,\n",
       " 'since': 250,\n",
       " 'probably': 251,\n",
       " 'woman': 252,\n",
       " 'girl': 253,\n",
       " 'fun': 254,\n",
       " 'performance': 255,\n",
       " 'yet': 256,\n",
       " 'away': 257,\n",
       " 'help': 258,\n",
       " 'read': 259,\n",
       " 'kind': 260,\n",
       " 'tv': 261,\n",
       " 'worst': 262,\n",
       " 'hard': 263,\n",
       " 'sure': 264,\n",
       " 'day': 265,\n",
       " 'anyone': 266,\n",
       " 'win': 267,\n",
       " 'our': 268,\n",
       " 'each': 269,\n",
       " 'rather': 270,\n",
       " 'bore': 271,\n",
       " 'expect': 272,\n",
       " 'war': 273,\n",
       " 'especially': 274,\n",
       " 'job': 275,\n",
       " 'move': 276,\n",
       " 'dvd': 277,\n",
       " 'worth': 278,\n",
       " 'course': 279,\n",
       " 'three': 280,\n",
       " 'sense': 281,\n",
       " 'although': 282,\n",
       " 'bring': 283,\n",
       " 'mind': 284,\n",
       " 'maybe': 285,\n",
       " 'someone': 286,\n",
       " 'american': 287,\n",
       " 'different': 288,\n",
       " 'everything': 289,\n",
       " 'sound': 290,\n",
       " 'wasn': 291,\n",
       " 'direct': 292,\n",
       " 'eye': 293,\n",
       " 'everyone': 294,\n",
       " 'view': 295,\n",
       " 'year': 296,\n",
       " 'money': 297,\n",
       " 'follow': 298,\n",
       " 'main': 299,\n",
       " 'actor': 300,\n",
       " 'talk': 301,\n",
       " 'high': 302,\n",
       " 'face': 303,\n",
       " 'night': 304,\n",
       " 'true': 305,\n",
       " 'lose': 306,\n",
       " 'recommend': 307,\n",
       " 'miss': 308,\n",
       " 'audience': 309,\n",
       " 'together': 310,\n",
       " 'once': 311,\n",
       " 'during': 312,\n",
       " 'later': 313,\n",
       " 'second': 314,\n",
       " '1': 315,\n",
       " 'special': 316,\n",
       " 'remember': 317,\n",
       " 'beautiful': 318,\n",
       " 'half': 319,\n",
       " 'instead': 320,\n",
       " 'waste': 321,\n",
       " 'house': 322,\n",
       " 'understand': 323,\n",
       " 'open': 324,\n",
       " 'surprise': 325,\n",
       " 'black': 326,\n",
       " 'head': 327,\n",
       " 'john': 328,\n",
       " 'wife': 329,\n",
       " 'hear': 330,\n",
       " 'himself': 331,\n",
       " 'hand': 332,\n",
       " 'idea': 333,\n",
       " 'die': 334,\n",
       " 'fight': 335,\n",
       " 'excellent': 336,\n",
       " 'entertain': 337,\n",
       " 'short': 338,\n",
       " 'budget': 339,\n",
       " 'feature': 340,\n",
       " 'fall': 341,\n",
       " 'version': 342,\n",
       " '3': 343,\n",
       " 'change': 344,\n",
       " 'simply': 345,\n",
       " 'death': 346,\n",
       " 'release': 347,\n",
       " 'piece': 348,\n",
       " 'include': 349,\n",
       " 'else': 350,\n",
       " 'couple': 351,\n",
       " 'father': 352,\n",
       " 'men': 353,\n",
       " 'picture': 354,\n",
       " 'school': 355,\n",
       " 'along': 356,\n",
       " 'involve': 357,\n",
       " 'nice': 358,\n",
       " 'either': 359,\n",
       " 'home': 360,\n",
       " 'poor': 361,\n",
       " 'top': 362,\n",
       " 'women': 363,\n",
       " 'attempt': 364,\n",
       " 'less': 365,\n",
       " 'classic': 366,\n",
       " 'until': 367,\n",
       " 'wrong': 368,\n",
       " 'meet': 369,\n",
       " 'camera': 370,\n",
       " 'style': 371,\n",
       " 'friends': 372,\n",
       " 'hollywood': 373,\n",
       " 'dead': 374,\n",
       " 'word': 375,\n",
       " 'suppose': 376,\n",
       " 'rest': 377,\n",
       " 'next': 378,\n",
       " 'sex': 379,\n",
       " 'rat': 380,\n",
       " 'stupid': 381,\n",
       " 'care': 382,\n",
       " 'lack': 383,\n",
       " 'completely': 384,\n",
       " 'appear': 385,\n",
       " 'flick': 386,\n",
       " 'decide': 387,\n",
       " 'murder': 388,\n",
       " 'title': 389,\n",
       " 'add': 390,\n",
       " 'joke': 391,\n",
       " 'save': 392,\n",
       " 'performances': 393,\n",
       " 'low': 394,\n",
       " 'full': 395,\n",
       " 'definitely': 396,\n",
       " 'production': 397,\n",
       " 'truly': 398,\n",
       " 'terrible': 399,\n",
       " 'person': 400,\n",
       " 'video': 401,\n",
       " 'moments': 402,\n",
       " 'close': 403,\n",
       " 'base': 404,\n",
       " 'review': 405,\n",
       " 'awful': 406,\n",
       " 'age': 407,\n",
       " 'wonderful': 408,\n",
       " 'human': 409,\n",
       " 'sort': 410,\n",
       " 'itself': 411,\n",
       " 'game': 412,\n",
       " 'case': 413,\n",
       " 'perhaps': 414,\n",
       " 'episode': 415,\n",
       " 'force': 416,\n",
       " 'light': 417,\n",
       " 'mother': 418,\n",
       " 'wonder': 419,\n",
       " 'others': 420,\n",
       " 'couldn': 421,\n",
       " 'comment': 422,\n",
       " 'perfect': 423,\n",
       " 'often': 424,\n",
       " 'create': 425,\n",
       " 'children': 426,\n",
       " 'yes': 427,\n",
       " 'consider': 428,\n",
       " 'experience': 429,\n",
       " 'early': 430,\n",
       " 'guess': 431,\n",
       " 'oh': 432,\n",
       " 'small': 433,\n",
       " 'mention': 434,\n",
       " 'sit': 435,\n",
       " 'friend': 436,\n",
       " 'hit': 437,\n",
       " 'side': 438,\n",
       " 'certainly': 439,\n",
       " 'boy': 440,\n",
       " 'stop': 441,\n",
       " 'voice': 442,\n",
       " 'ask': 443,\n",
       " 'sequence': 444,\n",
       " 'break': 445,\n",
       " 'hope': 446,\n",
       " 'finally': 447,\n",
       " 'spend': 448,\n",
       " 'stand': 449,\n",
       " 'felt': 450,\n",
       " 'buy': 451,\n",
       " 'absolutely': 452,\n",
       " 'dialogue': 453,\n",
       " 'worse': 454,\n",
       " 'mr': 455,\n",
       " 'white': 456,\n",
       " 'problem': 457,\n",
       " 'amaze': 458,\n",
       " 'entire': 459,\n",
       " 'cut': 460,\n",
       " 'deal': 461,\n",
       " 'fail': 462,\n",
       " 'drama': 463,\n",
       " 'matter': 464,\n",
       " 'humor': 465,\n",
       " 'wait': 466,\n",
       " 'disappoint': 467,\n",
       " 'cinema': 468,\n",
       " 'several': 469,\n",
       " 'against': 470,\n",
       " 'totally': 471,\n",
       " 'type': 472,\n",
       " 'able': 473,\n",
       " 'forget': 474,\n",
       " 'overall': 475,\n",
       " 'hold': 476,\n",
       " 'walk': 477,\n",
       " 'learn': 478,\n",
       " 'dance': 479,\n",
       " 'direction': 480,\n",
       " 'today': 481,\n",
       " 'evil': 482,\n",
       " 'final': 483,\n",
       " 'under': 484,\n",
       " '4': 485,\n",
       " 'pay': 486,\n",
       " '5': 487,\n",
       " 'example': 488,\n",
       " 'days': 489,\n",
       " 'already': 490,\n",
       " 'dark': 491,\n",
       " 'throughout': 492,\n",
       " 'speak': 493,\n",
       " 'b': 494,\n",
       " 'power': 495,\n",
       " 'support': 496,\n",
       " 'history': 497,\n",
       " 'unfortunately': 498,\n",
       " 'killer': 499,\n",
       " 'question': 500,\n",
       " 'manage': 501,\n",
       " 'portray': 502,\n",
       " 'stay': 503,\n",
       " 'quality': 504,\n",
       " 'past': 505,\n",
       " 'heart': 506,\n",
       " 'despite': 507,\n",
       " 'number': 508,\n",
       " 'throw': 509,\n",
       " 'theme': 510,\n",
       " 'present': 511,\n",
       " 'score': 512,\n",
       " 'group': 513,\n",
       " 'rent': 514,\n",
       " 'son': 515,\n",
       " 'town': 516,\n",
       " 'blood': 517,\n",
       " 'stuff': 518,\n",
       " 'viewer': 519,\n",
       " 'girls': 520,\n",
       " 'wish': 521,\n",
       " 'credit': 522,\n",
       " 'art': 523,\n",
       " 'favorite': 524,\n",
       " 'child': 525,\n",
       " 'please': 526,\n",
       " 'deserve': 527,\n",
       " 'genre': 528,\n",
       " 'late': 529,\n",
       " 'brilliant': 530,\n",
       " 'touch': 531,\n",
       " 'behind': 532,\n",
       " 'realize': 533,\n",
       " 'twist': 534,\n",
       " 'actress': 535,\n",
       " 'horrible': 536,\n",
       " 'michael': 537,\n",
       " 'fine': 538,\n",
       " 'body': 539,\n",
       " 'drive': 540,\n",
       " 'build': 541,\n",
       " 'obviously': 542,\n",
       " 'order': 543,\n",
       " 'etc': 544,\n",
       " 'soon': 545,\n",
       " 'catch': 546,\n",
       " 'slow': 547,\n",
       " 'annoy': 548,\n",
       " 'car': 549,\n",
       " 'city': 550,\n",
       " 'level': 551,\n",
       " 'sometimes': 552,\n",
       " 'daughter': 553,\n",
       " 'return': 554,\n",
       " 'except': 555,\n",
       " 'god': 556,\n",
       " 'pace': 557,\n",
       " 'police': 558,\n",
       " 'highly': 559,\n",
       " 'chance': 560,\n",
       " 'self': 561,\n",
       " 'ok': 562,\n",
       " 'edit': 563,\n",
       " 'complete': 564,\n",
       " 'husband': 565,\n",
       " 'hilarious': 566,\n",
       " 'myself': 567,\n",
       " 'decent': 568,\n",
       " 'themselves': 569,\n",
       " 'strong': 570,\n",
       " 'hour': 571,\n",
       " 'dream': 572,\n",
       " 'career': 573,\n",
       " 'anyway': 574,\n",
       " 'writer': 575,\n",
       " 'country': 576,\n",
       " 'draw': 577,\n",
       " 'hell': 578,\n",
       " 'pick': 579,\n",
       " 'jam': 580,\n",
       " 'hero': 581,\n",
       " 'figure': 582,\n",
       " 'song': 583,\n",
       " 'grow': 584,\n",
       " 'particularly': 585,\n",
       " 'extremely': 586,\n",
       " 'cannot': 587,\n",
       " 'cop': 588,\n",
       " 'obvious': 589,\n",
       " 'serious': 590,\n",
       " 'room': 591,\n",
       " 'team': 592,\n",
       " 'state': 593,\n",
       " 'wouldn': 594,\n",
       " 'ago': 595,\n",
       " 'sad': 596,\n",
       " 'brother': 597,\n",
       " 'simple': 598,\n",
       " 'provide': 599,\n",
       " 'violence': 600,\n",
       " 'cause': 601,\n",
       " 'offer': 602,\n",
       " 'gore': 603,\n",
       " 'david': 604,\n",
       " 'stories': 605,\n",
       " 'crap': 606,\n",
       " 'english': 607,\n",
       " 'robert': 608,\n",
       " 'result': 609,\n",
       " 'cinematography': 610,\n",
       " 'class': 611,\n",
       " 'possible': 612,\n",
       " 'moment': 613,\n",
       " 'middle': 614,\n",
       " 'check': 615,\n",
       " 'documentary': 616,\n",
       " 'alone': 617,\n",
       " 'sing': 618,\n",
       " 'shock': 619,\n",
       " 'message': 620,\n",
       " 'major': 621,\n",
       " 'cover': 622,\n",
       " 'cool': 623,\n",
       " 'stick': 624,\n",
       " 'none': 625,\n",
       " 'usually': 626,\n",
       " 'across': 627,\n",
       " 'problems': 628,\n",
       " 'allow': 629,\n",
       " 'roles': 630,\n",
       " 'hours': 631,\n",
       " 'yourself': 632,\n",
       " 'value': 633,\n",
       " 'note': 634,\n",
       " 'reality': 635,\n",
       " 'steal': 636,\n",
       " 'dog': 637,\n",
       " 'female': 638,\n",
       " 'gun': 639,\n",
       " 'avoid': 640,\n",
       " 'seriously': 641,\n",
       " 'explain': 642,\n",
       " 'single': 643,\n",
       " 'convince': 644,\n",
       " 'train': 645,\n",
       " 'deliver': 646,\n",
       " 'plan': 647,\n",
       " 'huge': 648,\n",
       " 'talent': 649,\n",
       " 'happy': 650,\n",
       " 'detail': 651,\n",
       " 'produce': 652,\n",
       " 'focus': 653,\n",
       " 'cheap': 654,\n",
       " 'whose': 655,\n",
       " 'shots': 656,\n",
       " 'exactly': 657,\n",
       " 'relationship': 658,\n",
       " 'usual': 659,\n",
       " 'scary': 660,\n",
       " 'charm': 661,\n",
       " 'important': 662,\n",
       " 'four': 663,\n",
       " 'image': 664,\n",
       " 'novel': 665,\n",
       " 'ones': 666,\n",
       " 'subject': 667,\n",
       " 'prove': 668,\n",
       " 'season': 669,\n",
       " 'imagine': 670,\n",
       " 'wear': 671,\n",
       " 'jack': 672,\n",
       " 'non': 673,\n",
       " 'thank': 674,\n",
       " 'escape': 675,\n",
       " 'modern': 676,\n",
       " 'hop': 677,\n",
       " 'drug': 678,\n",
       " 'marry': 679,\n",
       " 'form': 680,\n",
       " 'compare': 681,\n",
       " 'earth': 682,\n",
       " 'ridiculous': 683,\n",
       " 'rock': 684,\n",
       " 'attention': 685,\n",
       " 'clearly': 686,\n",
       " 'pull': 687,\n",
       " 'british': 688,\n",
       " 'discover': 689,\n",
       " 'episodes': 690,\n",
       " 'strange': 691,\n",
       " 'fire': 692,\n",
       " 'events': 693,\n",
       " 'upon': 694,\n",
       " 'remain': 695,\n",
       " 'french': 696,\n",
       " 'pass': 697,\n",
       " 'opinion': 698,\n",
       " 'doubt': 699,\n",
       " 'television': 700,\n",
       " 'apparently': 701,\n",
       " 'five': 702,\n",
       " 'mostly': 703,\n",
       " 'aren': 704,\n",
       " 'fill': 705,\n",
       " 'thriller': 706,\n",
       " '7': 707,\n",
       " 'fit': 708,\n",
       " 'due': 709,\n",
       " 'parent': 710,\n",
       " 'space': 711,\n",
       " 'somewhat': 712,\n",
       " 'o': 713,\n",
       " 'basically': 714,\n",
       " 'king': 715,\n",
       " 'within': 716,\n",
       " 'carry': 717,\n",
       " 'beyond': 718,\n",
       " 'air': 719,\n",
       " 'mark': 720,\n",
       " 'silly': 721,\n",
       " 'develop': 722,\n",
       " 'clich': 723,\n",
       " 'e': 724,\n",
       " 'easily': 725,\n",
       " 'clear': 726,\n",
       " 'local': 727,\n",
       " 'ten': 728,\n",
       " 'soundtrack': 729,\n",
       " '9': 730,\n",
       " 'capture': 731,\n",
       " 'straight': 732,\n",
       " 'issue': 733,\n",
       " 'musical': 734,\n",
       " 'comic': 735,\n",
       " 'fast': 736,\n",
       " 'sister': 737,\n",
       " 'enjoyable': 738,\n",
       " 'box': 739,\n",
       " 'choose': 740,\n",
       " 'match': 741,\n",
       " 'soldier': 742,\n",
       " 'future': 743,\n",
       " 'remind': 744,\n",
       " 'george': 745,\n",
       " 'chase': 746,\n",
       " 'near': 747,\n",
       " '8': 748,\n",
       " 'date': 749,\n",
       " 'dr': 750,\n",
       " 'entertainment': 751,\n",
       " 'similar': 752,\n",
       " 'whether': 753,\n",
       " 'hate': 754,\n",
       " 'above': 755,\n",
       " 'romantic': 756,\n",
       " 'list': 757,\n",
       " 'typical': 758,\n",
       " 'copy': 759,\n",
       " 'send': 760,\n",
       " 'bunch': 761,\n",
       " 'dialog': 762,\n",
       " 'certain': 763,\n",
       " 'bill': 764,\n",
       " 'haven': 765,\n",
       " 'songs': 766,\n",
       " 'richard': 767,\n",
       " 'fantastic': 768,\n",
       " 'sequel': 769,\n",
       " 'fly': 770,\n",
       " 'theater': 771,\n",
       " 'reveal': 772,\n",
       " 'ways': 773,\n",
       " 'general': 774,\n",
       " 'dull': 775,\n",
       " 'cry': 776,\n",
       " 'storyline': 777,\n",
       " 'predictable': 778,\n",
       " 'describe': 779,\n",
       " 'suffer': 780,\n",
       " 'suck': 781,\n",
       " 'excite': 782,\n",
       " 'viewers': 783,\n",
       " 'confuse': 784,\n",
       " 'easy': 785,\n",
       " 'bear': 786,\n",
       " 'battle': 787,\n",
       " 'suspense': 788,\n",
       " 'average': 789,\n",
       " 'oscar': 790,\n",
       " '20': 791,\n",
       " 'water': 792,\n",
       " 'mystery': 793,\n",
       " 'okay': 794,\n",
       " 'effort': 795,\n",
       " 'sorry': 796,\n",
       " 'party': 797,\n",
       " 'doctor': 798,\n",
       " 'realistic': 799,\n",
       " 'tale': 800,\n",
       " 'baby': 801,\n",
       " 'famous': 802,\n",
       " 'attack': 803,\n",
       " 'agree': 804,\n",
       " 'herself': 805,\n",
       " 'minute': 806,\n",
       " 'eat': 807,\n",
       " 'trouble': 808,\n",
       " 'peter': 809,\n",
       " 'notice': 810,\n",
       " 'hide': 811,\n",
       " 'crime': 812,\n",
       " 'fi': 813,\n",
       " 'remake': 814,\n",
       " 'free': 815,\n",
       " 'among': 816,\n",
       " 'sci': 817,\n",
       " 'monster': 818,\n",
       " 'actual': 819,\n",
       " 'fear': 820,\n",
       " 'lame': 821,\n",
       " 'nearly': 822,\n",
       " 'continue': 823,\n",
       " 'lady': 824,\n",
       " 'tom': 825,\n",
       " 'weak': 826,\n",
       " 'truth': 827,\n",
       " 'mess': 828,\n",
       " 'forward': 829,\n",
       " 'appreciate': 830,\n",
       " 'beat': 831,\n",
       " 'somehow': 832,\n",
       " 'greatest': 833,\n",
       " 'mix': 834,\n",
       " 'difficult': 835,\n",
       " 'atmosphere': 836,\n",
       " 'gay': 837,\n",
       " 'finish': 838,\n",
       " 'period': 839,\n",
       " 'drink': 840,\n",
       " 'background': 841,\n",
       " 'particular': 842,\n",
       " 'elements': 843,\n",
       " 'america': 844,\n",
       " 'blow': 845,\n",
       " 'crew': 846,\n",
       " 'shame': 847,\n",
       " 'romance': 848,\n",
       " 'material': 849,\n",
       " 'bother': 850,\n",
       " 'animation': 851,\n",
       " 'red': 852,\n",
       " 'imdb': 853,\n",
       " 'alien': 854,\n",
       " 'beauty': 855,\n",
       " 'track': 856,\n",
       " 'treat': 857,\n",
       " 'premise': 858,\n",
       " 'believable': 859,\n",
       " 'contain': 860,\n",
       " 'boys': 861,\n",
       " 'warn': 862,\n",
       " 'fantasy': 863,\n",
       " 'whatever': 864,\n",
       " 'accent': 865,\n",
       " 'masterpiece': 866,\n",
       " 'situation': 867,\n",
       " 'cartoon': 868,\n",
       " 'paul': 869,\n",
       " 'society': 870,\n",
       " 'appeal': 871,\n",
       " 'mistake': 872,\n",
       " 'control': 873,\n",
       " 'indeed': 874,\n",
       " 'inside': 875,\n",
       " 'poorly': 876,\n",
       " 'adventure': 877,\n",
       " 'scream': 878,\n",
       " 'front': 879,\n",
       " 'eventually': 880,\n",
       " 'suggest': 881,\n",
       " 'york': 882,\n",
       " 'flaw': 883,\n",
       " 'color': 884,\n",
       " 'unless': 885,\n",
       " 'nor': 886,\n",
       " 'emotional': 887,\n",
       " 'sexual': 888,\n",
       " 'hot': 889,\n",
       " 'spirit': 890,\n",
       " 'memorable': 891,\n",
       " 'third': 892,\n",
       " 'lie': 893,\n",
       " 'western': 894,\n",
       " 'deep': 895,\n",
       " 'nature': 896,\n",
       " 'de': 897,\n",
       " 'crazy': 898,\n",
       " 'company': 899,\n",
       " 'project': 900,\n",
       " 'master': 901,\n",
       " 'struggle': 902,\n",
       " 'lee': 903,\n",
       " 'hat': 904,\n",
       " 'otherwise': 905,\n",
       " 'street': 906,\n",
       " 'superb': 907,\n",
       " 'jump': 908,\n",
       " 'award': 909,\n",
       " 'dramatic': 910,\n",
       " 'admit': 911,\n",
       " 'directors': 912,\n",
       " 'possibly': 913,\n",
       " 'total': 914,\n",
       " 'brain': 915,\n",
       " 'whom': 916,\n",
       " 'cheesy': 917,\n",
       " 'land': 918,\n",
       " 'weird': 919,\n",
       " 'business': 920,\n",
       " '80': 921,\n",
       " 'creepy': 922,\n",
       " 'badly': 923,\n",
       " 'male': 924,\n",
       " 'plenty': 925,\n",
       " 'perform': 926,\n",
       " 'previous': 927,\n",
       " 'cat': 928,\n",
       " 'screenplay': 929,\n",
       " 'c': 930,\n",
       " 'disney': 931,\n",
       " 'political': 932,\n",
       " 'step': 933,\n",
       " 'dress': 934,\n",
       " 'sleep': 935,\n",
       " 'era': 936,\n",
       " 'joe': 937,\n",
       " 'german': 938,\n",
       " 'cross': 939,\n",
       " 'dumb': 940,\n",
       " 'answer': 941,\n",
       " 'ghost': 942,\n",
       " 'costume': 943,\n",
       " 'exist': 944,\n",
       " 'footage': 945,\n",
       " 'respect': 946,\n",
       " 'unique': 947,\n",
       " 'tear': 948,\n",
       " '30': 949,\n",
       " 'earlier': 950,\n",
       " 'burn': 951,\n",
       " 'fairly': 952,\n",
       " 'william': 953,\n",
       " 'record': 954,\n",
       " 'term': 955,\n",
       " 'secret': 956,\n",
       " 'amount': 957,\n",
       " 'inspire': 958,\n",
       " 'cold': 959,\n",
       " 'co': 960,\n",
       " 'concern': 961,\n",
       " 'accept': 962,\n",
       " 'powerful': 963,\n",
       " 'towards': 964,\n",
       " 'writers': 965,\n",
       " 'personal': 966,\n",
       " 'girlfriend': 967,\n",
       " 'serve': 968,\n",
       " 'rich': 969,\n",
       " 'rip': 970,\n",
       " 'plus': 971,\n",
       " 'blue': 972,\n",
       " 'quickly': 973,\n",
       " 'rate': 974,\n",
       " 'incredibly': 975,\n",
       " 'amuse': 976,\n",
       " 'older': 977,\n",
       " 'members': 978,\n",
       " 'spot': 979,\n",
       " 'zombie': 980,\n",
       " 'office': 981,\n",
       " 'kick': 982,\n",
       " 'scar': 983,\n",
       " 'band': 984,\n",
       " 'plain': 985,\n",
       " 'recently': 986,\n",
       " 'island': 987,\n",
       " 'channel': 988,\n",
       " 'various': 989,\n",
       " 'development': 990,\n",
       " 'cute': 991,\n",
       " 'promise': 992,\n",
       " 'share': 993,\n",
       " 'stage': 994,\n",
       " 'post': 995,\n",
       " 'talented': 996,\n",
       " 'van': 997,\n",
       " 'roll': 998,\n",
       " 'unlike': 999,\n",
       " '6': 1000,\n",
       " ...}"
      ]
     },
     "execution_count": 418,
     "metadata": {},
     "output_type": "execute_result"
    }
   ],
   "source": [
    "tokenizer.word_index"
   ]
  },
  {
   "cell_type": "code",
   "execution_count": 419,
   "id": "7cc17c82",
   "metadata": {},
   "outputs": [],
   "source": [
    "vocab_size = len(tokenizer.word_index) + 1"
   ]
  },
  {
   "cell_type": "code",
   "execution_count": 420,
   "id": "7e16cb2b",
   "metadata": {},
   "outputs": [],
   "source": [
    "def text_encoding(txt):\n",
    "    encoded_docs=tokenizer.texts_to_sequences(txt)\n",
    "    padded_sequences=pad_sequences(encoded_docs,maxlen=128)\n",
    "    return padded_sequences"
   ]
  },
  {
   "cell_type": "markdown",
   "id": "98f0cf6e",
   "metadata": {},
   "source": [
    "Apply the function on both Training and Testing set"
   ]
  },
  {
   "cell_type": "code",
   "execution_count": 421,
   "id": "353aaa5a",
   "metadata": {},
   "outputs": [],
   "source": [
    "X_train = text_encoding(X_train)\n",
    "X_test = text_encoding(X_test)"
   ]
  },
  {
   "cell_type": "code",
   "execution_count": 422,
   "id": "93325ae0",
   "metadata": {},
   "outputs": [
    {
     "data": {
      "text/plain": [
       "(12591, 128)"
      ]
     },
     "execution_count": 422,
     "metadata": {},
     "output_type": "execute_result"
    }
   ],
   "source": [
    "X_train.shape"
   ]
  },
  {
   "cell_type": "code",
   "execution_count": 423,
   "id": "47a225b5",
   "metadata": {},
   "outputs": [
    {
     "data": {
      "text/plain": [
       "(3148, 128)"
      ]
     },
     "execution_count": 423,
     "metadata": {},
     "output_type": "execute_result"
    }
   ],
   "source": [
    "X_test.shape"
   ]
  },
  {
   "cell_type": "code",
   "execution_count": 424,
   "id": "f19a5b68",
   "metadata": {},
   "outputs": [
    {
     "data": {
      "text/plain": [
       "(12591, 1)"
      ]
     },
     "execution_count": 424,
     "metadata": {},
     "output_type": "execute_result"
    }
   ],
   "source": [
    "y_train.shape"
   ]
  },
  {
   "cell_type": "code",
   "execution_count": 425,
   "id": "02697059",
   "metadata": {},
   "outputs": [
    {
     "data": {
      "text/plain": [
       "(3148, 1)"
      ]
     },
     "execution_count": 425,
     "metadata": {},
     "output_type": "execute_result"
    }
   ],
   "source": [
    "y_test.shape"
   ]
  },
  {
   "cell_type": "code",
   "execution_count": 359,
   "id": "c817ad2b",
   "metadata": {},
   "outputs": [
    {
     "data": {
      "text/plain": [
       "array([[1],\n",
       "       [1],\n",
       "       [0],\n",
       "       ...,\n",
       "       [0],\n",
       "       [1],\n",
       "       [1]])"
      ]
     },
     "execution_count": 359,
     "metadata": {},
     "output_type": "execute_result"
    }
   ],
   "source": [
    "y_test"
   ]
  },
  {
   "cell_type": "markdown",
   "id": "7dff8d69",
   "metadata": {},
   "source": [
    "Create a keras Sequential model with LSTM Layers"
   ]
  },
  {
   "cell_type": "code",
   "execution_count": 360,
   "id": "0b83356a",
   "metadata": {},
   "outputs": [
    {
     "data": {
      "text/plain": [
       "53395"
      ]
     },
     "execution_count": 360,
     "metadata": {},
     "output_type": "execute_result"
    }
   ],
   "source": [
    "vocab_size"
   ]
  },
  {
   "cell_type": "code",
   "execution_count": 361,
   "id": "ac74b0a7",
   "metadata": {},
   "outputs": [],
   "source": [
    "from keras import Sequential\n",
    "from keras import layers"
   ]
  },
  {
   "cell_type": "code",
   "execution_count": 374,
   "id": "7bc5a4a1",
   "metadata": {},
   "outputs": [
    {
     "data": {
      "text/html": [
       "<pre style=\"white-space:pre;overflow-x:auto;line-height:normal;font-family:Menlo,'DejaVu Sans Mono',consolas,'Courier New',monospace\"><span style=\"font-weight: bold\">Model: \"sequential_34\"</span>\n",
       "</pre>\n"
      ],
      "text/plain": [
       "\u001b[1mModel: \"sequential_34\"\u001b[0m\n"
      ]
     },
     "metadata": {},
     "output_type": "display_data"
    },
    {
     "data": {
      "text/html": [
       "<pre style=\"white-space:pre;overflow-x:auto;line-height:normal;font-family:Menlo,'DejaVu Sans Mono',consolas,'Courier New',monospace\">┏━━━━━━━━━━━━━━━━━━━━━━━━━━━━━━━━━━━━━━┳━━━━━━━━━━━━━━━━━━━━━━━━━━━━━┳━━━━━━━━━━━━━━━━━┓\n",
       "┃<span style=\"font-weight: bold\"> Layer (type)                         </span>┃<span style=\"font-weight: bold\"> Output Shape                </span>┃<span style=\"font-weight: bold\">         Param # </span>┃\n",
       "┡━━━━━━━━━━━━━━━━━━━━━━━━━━━━━━━━━━━━━━╇━━━━━━━━━━━━━━━━━━━━━━━━━━━━━╇━━━━━━━━━━━━━━━━━┩\n",
       "│ embedding_27 (<span style=\"color: #0087ff; text-decoration-color: #0087ff\">Embedding</span>)             │ ?                           │     <span style=\"color: #00af00; text-decoration-color: #00af00\">0</span> (unbuilt) │\n",
       "├──────────────────────────────────────┼─────────────────────────────┼─────────────────┤\n",
       "│ bidirectional_38 (<span style=\"color: #0087ff; text-decoration-color: #0087ff\">Bidirectional</span>)     │ ?                           │     <span style=\"color: #00af00; text-decoration-color: #00af00\">0</span> (unbuilt) │\n",
       "├──────────────────────────────────────┼─────────────────────────────┼─────────────────┤\n",
       "│ dropout_54 (<span style=\"color: #0087ff; text-decoration-color: #0087ff\">Dropout</span>)                 │ ?                           │               <span style=\"color: #00af00; text-decoration-color: #00af00\">0</span> │\n",
       "├──────────────────────────────────────┼─────────────────────────────┼─────────────────┤\n",
       "│ bidirectional_39 (<span style=\"color: #0087ff; text-decoration-color: #0087ff\">Bidirectional</span>)     │ ?                           │     <span style=\"color: #00af00; text-decoration-color: #00af00\">0</span> (unbuilt) │\n",
       "├──────────────────────────────────────┼─────────────────────────────┼─────────────────┤\n",
       "│ dropout_55 (<span style=\"color: #0087ff; text-decoration-color: #0087ff\">Dropout</span>)                 │ ?                           │               <span style=\"color: #00af00; text-decoration-color: #00af00\">0</span> │\n",
       "├──────────────────────────────────────┼─────────────────────────────┼─────────────────┤\n",
       "│ dense_30 (<span style=\"color: #0087ff; text-decoration-color: #0087ff\">Dense</span>)                     │ ?                           │     <span style=\"color: #00af00; text-decoration-color: #00af00\">0</span> (unbuilt) │\n",
       "└──────────────────────────────────────┴─────────────────────────────┴─────────────────┘\n",
       "</pre>\n"
      ],
      "text/plain": [
       "┏━━━━━━━━━━━━━━━━━━━━━━━━━━━━━━━━━━━━━━┳━━━━━━━━━━━━━━━━━━━━━━━━━━━━━┳━━━━━━━━━━━━━━━━━┓\n",
       "┃\u001b[1m \u001b[0m\u001b[1mLayer (type)                        \u001b[0m\u001b[1m \u001b[0m┃\u001b[1m \u001b[0m\u001b[1mOutput Shape               \u001b[0m\u001b[1m \u001b[0m┃\u001b[1m \u001b[0m\u001b[1m        Param #\u001b[0m\u001b[1m \u001b[0m┃\n",
       "┡━━━━━━━━━━━━━━━━━━━━━━━━━━━━━━━━━━━━━━╇━━━━━━━━━━━━━━━━━━━━━━━━━━━━━╇━━━━━━━━━━━━━━━━━┩\n",
       "│ embedding_27 (\u001b[38;5;33mEmbedding\u001b[0m)             │ ?                           │     \u001b[38;5;34m0\u001b[0m (unbuilt) │\n",
       "├──────────────────────────────────────┼─────────────────────────────┼─────────────────┤\n",
       "│ bidirectional_38 (\u001b[38;5;33mBidirectional\u001b[0m)     │ ?                           │     \u001b[38;5;34m0\u001b[0m (unbuilt) │\n",
       "├──────────────────────────────────────┼─────────────────────────────┼─────────────────┤\n",
       "│ dropout_54 (\u001b[38;5;33mDropout\u001b[0m)                 │ ?                           │               \u001b[38;5;34m0\u001b[0m │\n",
       "├──────────────────────────────────────┼─────────────────────────────┼─────────────────┤\n",
       "│ bidirectional_39 (\u001b[38;5;33mBidirectional\u001b[0m)     │ ?                           │     \u001b[38;5;34m0\u001b[0m (unbuilt) │\n",
       "├──────────────────────────────────────┼─────────────────────────────┼─────────────────┤\n",
       "│ dropout_55 (\u001b[38;5;33mDropout\u001b[0m)                 │ ?                           │               \u001b[38;5;34m0\u001b[0m │\n",
       "├──────────────────────────────────────┼─────────────────────────────┼─────────────────┤\n",
       "│ dense_30 (\u001b[38;5;33mDense\u001b[0m)                     │ ?                           │     \u001b[38;5;34m0\u001b[0m (unbuilt) │\n",
       "└──────────────────────────────────────┴─────────────────────────────┴─────────────────┘\n"
      ]
     },
     "metadata": {},
     "output_type": "display_data"
    },
    {
     "data": {
      "text/html": [
       "<pre style=\"white-space:pre;overflow-x:auto;line-height:normal;font-family:Menlo,'DejaVu Sans Mono',consolas,'Courier New',monospace\"><span style=\"font-weight: bold\"> Total params: </span><span style=\"color: #00af00; text-decoration-color: #00af00\">0</span> (0.00 B)\n",
       "</pre>\n"
      ],
      "text/plain": [
       "\u001b[1m Total params: \u001b[0m\u001b[38;5;34m0\u001b[0m (0.00 B)\n"
      ]
     },
     "metadata": {},
     "output_type": "display_data"
    },
    {
     "data": {
      "text/html": [
       "<pre style=\"white-space:pre;overflow-x:auto;line-height:normal;font-family:Menlo,'DejaVu Sans Mono',consolas,'Courier New',monospace\"><span style=\"font-weight: bold\"> Trainable params: </span><span style=\"color: #00af00; text-decoration-color: #00af00\">0</span> (0.00 B)\n",
       "</pre>\n"
      ],
      "text/plain": [
       "\u001b[1m Trainable params: \u001b[0m\u001b[38;5;34m0\u001b[0m (0.00 B)\n"
      ]
     },
     "metadata": {},
     "output_type": "display_data"
    },
    {
     "data": {
      "text/html": [
       "<pre style=\"white-space:pre;overflow-x:auto;line-height:normal;font-family:Menlo,'DejaVu Sans Mono',consolas,'Courier New',monospace\"><span style=\"font-weight: bold\"> Non-trainable params: </span><span style=\"color: #00af00; text-decoration-color: #00af00\">0</span> (0.00 B)\n",
       "</pre>\n"
      ],
      "text/plain": [
       "\u001b[1m Non-trainable params: \u001b[0m\u001b[38;5;34m0\u001b[0m (0.00 B)\n"
      ]
     },
     "metadata": {},
     "output_type": "display_data"
    }
   ],
   "source": [
    "embedding_dim = 128\n",
    "\n",
    "model = Sequential()\n",
    "model.add(Embedding(input_dim=vocab_size, output_dim=embedding_dim))\n",
    "model.add(Bidirectional(LSTM(units=128, return_sequences=True)))\n",
    "model.add(Dropout(0.2))\n",
    "model.add(Bidirectional(LSTM(units=128)))\n",
    "model.add(Dropout(0.2))\n",
    "model.add(Dense(1, activation='sigmoid'))\n",
    "\n",
    "# Compile the model\n",
    "model.summary()"
   ]
  },
  {
   "cell_type": "code",
   "execution_count": 375,
   "id": "26b69e81",
   "metadata": {},
   "outputs": [],
   "source": [
    "model.compile(optimizer='adam', loss='binary_crossentropy', metrics=['accuracy'])"
   ]
  },
  {
   "cell_type": "markdown",
   "id": "f77d4179",
   "metadata": {},
   "source": [
    "Train the model with our Training Set"
   ]
  },
  {
   "cell_type": "code",
   "execution_count": 376,
   "id": "458d5664",
   "metadata": {},
   "outputs": [
    {
     "name": "stdout",
     "output_type": "stream",
     "text": [
      "Epoch 1/10\n",
      "\u001b[1m315/315\u001b[0m \u001b[32m━━━━━━━━━━━━━━━━━━━━\u001b[0m\u001b[37m\u001b[0m \u001b[1m230s\u001b[0m 691ms/step - accuracy: 0.5853 - loss: 0.6684 - val_accuracy: 0.7023 - val_loss: 0.5714\n",
      "Epoch 2/10\n",
      "\u001b[1m315/315\u001b[0m \u001b[32m━━━━━━━━━━━━━━━━━━━━\u001b[0m\u001b[37m\u001b[0m \u001b[1m215s\u001b[0m 682ms/step - accuracy: 0.7235 - loss: 0.5543 - val_accuracy: 0.7130 - val_loss: 0.5600\n",
      "Epoch 3/10\n",
      "\u001b[1m315/315\u001b[0m \u001b[32m━━━━━━━━━━━━━━━━━━━━\u001b[0m\u001b[37m\u001b[0m \u001b[1m219s\u001b[0m 695ms/step - accuracy: 0.7345 - loss: 0.5412 - val_accuracy: 0.7142 - val_loss: 0.5572\n",
      "Epoch 4/10\n",
      "\u001b[1m315/315\u001b[0m \u001b[32m━━━━━━━━━━━━━━━━━━━━\u001b[0m\u001b[37m\u001b[0m \u001b[1m207s\u001b[0m 656ms/step - accuracy: 0.7499 - loss: 0.5291 - val_accuracy: 0.7217 - val_loss: 0.5641\n",
      "Epoch 5/10\n",
      "\u001b[1m315/315\u001b[0m \u001b[32m━━━━━━━━━━━━━━━━━━━━\u001b[0m\u001b[37m\u001b[0m \u001b[1m208s\u001b[0m 661ms/step - accuracy: 0.7490 - loss: 0.5184 - val_accuracy: 0.7312 - val_loss: 0.5434\n",
      "Epoch 6/10\n",
      "\u001b[1m315/315\u001b[0m \u001b[32m━━━━━━━━━━━━━━━━━━━━\u001b[0m\u001b[37m\u001b[0m \u001b[1m205s\u001b[0m 652ms/step - accuracy: 0.7613 - loss: 0.5054 - val_accuracy: 0.7332 - val_loss: 0.5445\n",
      "Epoch 7/10\n",
      "\u001b[1m315/315\u001b[0m \u001b[32m━━━━━━━━━━━━━━━━━━━━\u001b[0m\u001b[37m\u001b[0m \u001b[1m206s\u001b[0m 655ms/step - accuracy: 0.7669 - loss: 0.4948 - val_accuracy: 0.7324 - val_loss: 0.5466\n",
      "Epoch 8/10\n",
      "\u001b[1m315/315\u001b[0m \u001b[32m━━━━━━━━━━━━━━━━━━━━\u001b[0m\u001b[37m\u001b[0m \u001b[1m206s\u001b[0m 654ms/step - accuracy: 0.7637 - loss: 0.4909 - val_accuracy: 0.7273 - val_loss: 0.5519\n",
      "Epoch 9/10\n",
      "\u001b[1m315/315\u001b[0m \u001b[32m━━━━━━━━━━━━━━━━━━━━\u001b[0m\u001b[37m\u001b[0m \u001b[1m207s\u001b[0m 656ms/step - accuracy: 0.7581 - loss: 0.4925 - val_accuracy: 0.7348 - val_loss: 0.5386\n",
      "Epoch 10/10\n",
      "\u001b[1m315/315\u001b[0m \u001b[32m━━━━━━━━━━━━━━━━━━━━\u001b[0m\u001b[37m\u001b[0m \u001b[1m207s\u001b[0m 656ms/step - accuracy: 0.7726 - loss: 0.4785 - val_accuracy: 0.7424 - val_loss: 0.5410\n"
     ]
    },
    {
     "data": {
      "text/plain": [
       "<keras.src.callbacks.history.History at 0x2288f187ad0>"
      ]
     },
     "execution_count": 376,
     "metadata": {},
     "output_type": "execute_result"
    }
   ],
   "source": [
    "model.fit(X_train, y_train, epochs=10, validation_split = 0.2)"
   ]
  },
  {
   "cell_type": "markdown",
   "id": "2681dcaa",
   "metadata": {},
   "source": [
    "Make Prediction with X_test"
   ]
  },
  {
   "cell_type": "code",
   "execution_count": 426,
   "id": "33d62b90",
   "metadata": {},
   "outputs": [
    {
     "name": "stdout",
     "output_type": "stream",
     "text": [
      "\u001b[1m99/99\u001b[0m \u001b[32m━━━━━━━━━━━━━━━━━━━━\u001b[0m\u001b[37m\u001b[0m \u001b[1m66s\u001b[0m 665ms/step\n"
     ]
    }
   ],
   "source": [
    "y_pred=model.predict(X_test)"
   ]
  },
  {
   "cell_type": "code",
   "execution_count": 427,
   "id": "da0e2535",
   "metadata": {},
   "outputs": [
    {
     "data": {
      "text/plain": [
       "array([[0.7434118 ],\n",
       "       [0.38721845],\n",
       "       [0.816428  ],\n",
       "       ...,\n",
       "       [0.46313745],\n",
       "       [0.03236397],\n",
       "       [0.93439716]], dtype=float32)"
      ]
     },
     "execution_count": 427,
     "metadata": {},
     "output_type": "execute_result"
    }
   ],
   "source": [
    "y_pred"
   ]
  },
  {
   "cell_type": "code",
   "execution_count": 431,
   "id": "892fcbdf",
   "metadata": {},
   "outputs": [],
   "source": [
    "def convert_to_class(y_pred):\n",
    "    class_labels = []\n",
    "    for i in y_pred:\n",
    "        if i < 0.5:\n",
    "            class_labels.append(0)\n",
    "        else:\n",
    "            class_labels.append(1)\n",
    "    return class_labels"
   ]
  },
  {
   "cell_type": "code",
   "execution_count": 439,
   "id": "fbb590b5",
   "metadata": {},
   "outputs": [],
   "source": [
    "predicted_classes = convert_to_class(y_pred)"
   ]
  },
  {
   "cell_type": "markdown",
   "id": "40fa41ba",
   "metadata": {},
   "source": [
    "Accuracy score,confusion_matrix,classification_report"
   ]
  },
  {
   "cell_type": "code",
   "execution_count": 380,
   "id": "d7ad56f4",
   "metadata": {},
   "outputs": [],
   "source": [
    "from sklearn.metrics import confusion_matrix, classification_report, accuracy_score"
   ]
  },
  {
   "cell_type": "markdown",
   "id": "14ea9054",
   "metadata": {},
   "source": [
    "accuracy_score"
   ]
  },
  {
   "cell_type": "code",
   "execution_count": 435,
   "id": "9806c1e8",
   "metadata": {},
   "outputs": [
    {
     "data": {
      "text/plain": [
       "0.783989834815756"
      ]
     },
     "execution_count": 435,
     "metadata": {},
     "output_type": "execute_result"
    }
   ],
   "source": [
    "accuracy_score(y_test,predicted_classes)"
   ]
  },
  {
   "cell_type": "markdown",
   "id": "646589ea",
   "metadata": {},
   "source": [
    "confusion_matrix"
   ]
  },
  {
   "cell_type": "code",
   "execution_count": 436,
   "id": "08ed60cd",
   "metadata": {},
   "outputs": [
    {
     "data": {
      "text/plain": [
       "<Axes: >"
      ]
     },
     "execution_count": 436,
     "metadata": {},
     "output_type": "execute_result"
    },
    {
     "data": {
      "image/png": "[encoded data removed]",
      "text/plain": [
       "<Figure size 640x480 with 2 Axes>"
      ]
     },
     "metadata": {},
     "output_type": "display_data"
    }
   ],
   "source": [
    "sns.heatmap(confusion_matrix(y_test,predicted_classes),annot=True,fmt='d')"
   ]
  },
  {
   "cell_type": "markdown",
   "id": "db5288fc",
   "metadata": {},
   "source": [
    "classification_report"
   ]
  },
  {
   "cell_type": "code",
   "execution_count": 438,
   "id": "e0b4f2ad",
   "metadata": {},
   "outputs": [
    {
     "name": "stdout",
     "output_type": "stream",
     "text": [
      "              precision    recall  f1-score   support\n",
      "\n",
      "           0       0.81      0.75      0.78      1593\n",
      "           1       0.76      0.81      0.79      1555\n",
      "\n",
      "    accuracy                           0.78      3148\n",
      "   macro avg       0.79      0.78      0.78      3148\n",
      "weighted avg       0.79      0.78      0.78      3148\n",
      "\n"
     ]
    }
   ],
   "source": [
    "print(classification_report(y_test,predicted_classes))"
   ]
  }
 ],
 "metadata": {
  "kernelspec": {
   "display_name": "Python 3 (ipykernel)",
   "language": "python",
   "name": "python3"
  },
  "language_info": {
   "codemirror_mode": {
    "name": "ipython",
    "version": 3
   },
   "file_extension": ".py",
   "mimetype": "text/x-python",
   "name": "python",
   "nbconvert_exporter": "python",
   "pygments_lexer": "ipython3",
   "version": "3.11.5"
  }
 },
 "nbformat": 4,
 "nbformat_minor": 5
}
